{
 "cells": [
  {
   "cell_type": "markdown",
   "id": "76ab91e7",
   "metadata": {},
   "source": [
    "Ejercicio 2\n",
    "Cree una lista de frutas de 2 elementos, y realice un programa que muestre una oración conteniendo los dos elementos de la lista concatenándolos con texto para formar una oración con sentido. Presente el resultado en la terminal del editor.\n"
   ]
  },
  {
   "cell_type": "code",
   "execution_count": 3,
   "id": "b823e0ee",
   "metadata": {},
   "outputs": [
    {
     "name": "stdout",
     "output_type": "stream",
     "text": [
      "De chico mi fruta favorita era Mandarina . Ahora de grande me gusta mucho mas la Sandia\n"
     ]
    }
   ],
   "source": [
    "frutas = ['Mandarina','Sandia']\n",
    "print ('De chico mi fruta favorita era',frutas[0],'. Ahora de grande me gusta mucho mas la',frutas[1])"
   ]
  },
  {
   "cell_type": "markdown",
   "id": "89ab9fcb",
   "metadata": {},
   "source": [
    "Ejercicio 3\n",
    "Tome dos valores por consola, y guarde en una lista: [primer_valor, segundo_valor, la_suma_de_los_valores] Presente el resultado en la terminal del editor."
   ]
  },
  {
   "cell_type": "code",
   "execution_count": 4,
   "id": "f42e60b7",
   "metadata": {},
   "outputs": [
    {
     "name": "stdout",
     "output_type": "stream",
     "text": [
      "Ingrese un valor:1\n",
      "Ingrese otra valor:2\n",
      "Ingrese un ultimo valor:3\n",
      "['1', '2', '3']\n"
     ]
    }
   ],
   "source": [
    "val1=input('Ingrese un valor:')\n",
    "val2=input('Ingrese otra valor:')\n",
    "val3=input('Ingrese un ultimo valor:')\n",
    "\n",
    "lista_valores= [val1,val2,val3]\n",
    "\n",
    "print(lista_valores)"
   ]
  },
  {
   "cell_type": "markdown",
   "id": "782a9876",
   "metadata": {},
   "source": [
    "Ejercicio 4\n",
    "Realice un programa que consulte la edad y en caso de que el valor ingresado supere la fecha de jubilación, presente en la terminal el mensaje “Ya está en edad de jubilarse” en caso contrario que presente “Aún está en edad de trabajar”"
   ]
  },
  {
   "cell_type": "code",
   "execution_count": 6,
   "id": "69df6db6",
   "metadata": {},
   "outputs": [
    {
     "name": "stdout",
     "output_type": "stream",
     "text": [
      "Ingrese su edad:32\n",
      "Aun esta en edad de trabajar.\n"
     ]
    }
   ],
   "source": [
    "edad=int(input('Ingrese su edad:'))\n",
    "\n",
    "if edad > 64:\n",
    "    print('Ya esta en edad de Jubilarse.')\n",
    "else:\n",
    "    print('Aun esta en edad de trabajar.')\n",
    "    "
   ]
  },
  {
   "cell_type": "markdown",
   "id": "f4294ac1",
   "metadata": {},
   "source": [
    "Ejercicio 5\n",
    "Realice nuevamente los ejercicios de la unidad 1 (3, 4 y 5), pero tratando de utilizar una función, de forma que la operación se realice dentro de la misma.\n",
    "Presente el resultado en la terminal del editor."
   ]
  },
  {
   "cell_type": "markdown",
   "id": "a8be60f6",
   "metadata": {},
   "source": [
    "Ejercicio 3:\n",
    "Escriba un programa que solicite el radio de una circunferencia y permita calcular el perímetro. Presente el resultado en la terminal del editor.\n",
    "Utilice la siguiente fórmula: L=2·π·r\n",
    "L = Longitud de perímetro\n",
    "π = Número pí igual a 3.1416 r = Radio"
   ]
  },
  {
   "cell_type": "code",
   "execution_count": 5,
   "id": "cad4458f",
   "metadata": {},
   "outputs": [
    {
     "name": "stdout",
     "output_type": "stream",
     "text": [
      "Ingrese el radio de una circunferencia: 12\n",
      "El perimetro es 75.4\n"
     ]
    }
   ],
   "source": [
    "def circunferencia():\n",
    "    radio = float(input('Ingrese el radio de una circunferencia: '))\n",
    "\n",
    "    perimetro = 2 * 3.1416 * radio\n",
    "\n",
    "    return print ('El perimetro es '+str(round(perimetro,2)))\n",
    "circunferencia()"
   ]
  },
  {
   "cell_type": "markdown",
   "id": "5ee99f45",
   "metadata": {},
   "source": [
    "Escriba un programa que solicite el radio de una circunferencia y permita calcular el su área. Presente el resultado en la terminal del editor.\n",
    "Utilice la siguiente fórmula:\n",
    "A = 𝜋.𝑟**2\n",
    "A = Área\n",
    "π = Número pi igual a 3.1416 r = Radio"
   ]
  },
  {
   "cell_type": "code",
   "execution_count": 7,
   "id": "549f4419",
   "metadata": {},
   "outputs": [
    {
     "name": "stdout",
     "output_type": "stream",
     "text": [
      "Ingrese el radio de una circunferencia: 123\n",
      "El area es 47529.27\n"
     ]
    }
   ],
   "source": [
    "def area():\n",
    "    radio = float(input('Ingrese el radio de una circunferencia: '))\n",
    "\n",
    "    area = 3.1416 *radio**2\n",
    "\n",
    "    return print ('El area es '+str(round(area,2)))\n",
    "area()\n"
   ]
  },
  {
   "cell_type": "markdown",
   "id": "392ea906",
   "metadata": {},
   "source": [
    "Ejercicio 5:\n",
    "Escriba un programa que solicite un valor entero por pantalla y presente en la terminal del editor el valor incrementado en un 10%."
   ]
  },
  {
   "cell_type": "code",
   "execution_count": 8,
   "id": "7c04edf0",
   "metadata": {},
   "outputs": [
    {
     "name": "stdout",
     "output_type": "stream",
     "text": [
      "Ingrese un numero entero: 5\n",
      "El resultado incrementando el 10% es 5.5\n"
     ]
    }
   ],
   "source": [
    "def num_mas_diez_porciento():\n",
    "    numero = int(input('Ingrese un numero entero: '))\n",
    "\n",
    "    return print ('El resultado incrementando el 10% es ' + str(numero*1.1))\n",
    "num_mas_diez_porciento()\n"
   ]
  }
 ],
 "metadata": {
  "kernelspec": {
   "display_name": "Python 3 (ipykernel)",
   "language": "python",
   "name": "python3"
  },
  "language_info": {
   "codemirror_mode": {
    "name": "ipython",
    "version": 3
   },
   "file_extension": ".py",
   "mimetype": "text/x-python",
   "name": "python",
   "nbconvert_exporter": "python",
   "pygments_lexer": "ipython3",
   "version": "3.10.4"
  }
 },
 "nbformat": 4,
 "nbformat_minor": 5
}
